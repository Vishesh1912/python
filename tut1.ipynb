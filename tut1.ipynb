{
 "cells": [
  {
   "cell_type": "code",
   "execution_count": 4,
   "metadata": {},
   "outputs": [
    {
     "name": "stdout",
     "output_type": "stream",
     "text": [
      "hello\n"
     ]
    }
   ],
   "source": [
    "print(\"hello\")\n",
    " "
   ]
  },
  {
   "cell_type": "code",
   "execution_count": 5,
   "metadata": {},
   "outputs": [
    {
     "name": "stdout",
     "output_type": "stream",
     "text": [
      "18\n"
     ]
    }
   ],
   "source": [
    "a=9\n",
    "b=9\n",
    "print(a+b)"
   ]
  },
  {
   "cell_type": "code",
   "execution_count": 6,
   "metadata": {},
   "outputs": [
    {
     "name": "stdout",
     "output_type": "stream",
     "text": [
      "anmol agrawal\n"
     ]
    }
   ],
   "source": [
    "X=\"anmol\"\n",
    "y=\"agrawal\"\n",
    "c=X+y\n",
    "print(X+\" \"+y)\n",
    "        "
   ]
  },
  {
   "cell_type": "code",
   "execution_count": 7,
   "metadata": {},
   "outputs": [
    {
     "name": "stdout",
     "output_type": "stream",
     "text": [
      "1\n"
     ]
    }
   ],
   "source": [
    "print(1)"
   ]
  },
  {
   "cell_type": "code",
   "execution_count": 8,
   "metadata": {},
   "outputs": [],
   "source": [
    "ab=\"i am anmol agrawal\""
   ]
  },
  {
   "cell_type": "code",
   "execution_count": 9,
   "metadata": {},
   "outputs": [
    {
     "name": "stdout",
     "output_type": "stream",
     "text": [
      "['i ', 'am ', 'anmol ']\n"
     ]
    }
   ],
   "source": [
    "word=[]\n",
    "w=\"\"\n",
    "c=\"\"\n",
    "for words in (ab):  \n",
    "    c+=words\n",
    "    if(words==' '):\n",
    "        word.append(c)\n",
    "        c=\"\"\n",
    "    \n",
    "print(word)"
   ]
  },
  {
   "cell_type": "code",
   "execution_count": 10,
   "metadata": {},
   "outputs": [
    {
     "name": "stdout",
     "output_type": "stream",
     "text": [
      "vishesh jain\n"
     ]
    }
   ],
   "source": [
    "a=[\"vishesh\", \"jain\"]\n",
    "print(a[0]+\" \"+a[1])"
   ]
  },
  {
   "cell_type": "code",
   "execution_count": 11,
   "metadata": {},
   "outputs": [
    {
     "data": {
      "text/plain": [
       "[]"
      ]
     },
     "execution_count": 11,
     "metadata": {},
     "output_type": "execute_result"
    }
   ],
   "source": [
    "a[2:4]"
   ]
  },
  {
   "cell_type": "code",
   "execution_count": 12,
   "metadata": {},
   "outputs": [
    {
     "data": {
      "text/plain": [
       "[1, 2, 3, 4, 5, 6, 7, 8, 9]"
      ]
     },
     "execution_count": 12,
     "metadata": {},
     "output_type": "execute_result"
    }
   ],
   "source": [
    "a=[1,2,3,4,5,6,7,8,9]\n",
    "a[0:10]"
   ]
  },
  {
   "cell_type": "code",
   "execution_count": 13,
   "metadata": {},
   "outputs": [
    {
     "data": {
      "text/plain": [
       "[1, 2, 3, 4, 5, 6, 7, 8, 9, 10]"
      ]
     },
     "execution_count": 13,
     "metadata": {},
     "output_type": "execute_result"
    }
   ],
   "source": [
    "a.append(10)\n",
    "a"
   ]
  },
  {
   "cell_type": "code",
   "execution_count": 14,
   "metadata": {},
   "outputs": [
    {
     "data": {
      "text/plain": [
       "[1, 2, 3, 4, 5, 6, 7, 8, 9, 10, 11, 12]"
      ]
     },
     "execution_count": 14,
     "metadata": {},
     "output_type": "execute_result"
    }
   ],
   "source": [
    "a.extend([11,12])\n",
    "a"
   ]
  },
  {
   "cell_type": "code",
   "execution_count": 15,
   "metadata": {},
   "outputs": [
    {
     "data": {
      "text/plain": [
       "[1, 2, 3, 4, 5, 6, 7, 8, 9, 10, 12]"
      ]
     },
     "execution_count": 15,
     "metadata": {},
     "output_type": "execute_result"
    }
   ],
   "source": [
    "a.remove(11)\n",
    "a"
   ]
  },
  {
   "cell_type": "code",
   "execution_count": 16,
   "metadata": {},
   "outputs": [
    {
     "data": {
      "text/plain": [
       "[1, 2, 3, 4, 5, 6, 7, 8, 9, 10, 12, 13]"
      ]
     },
     "execution_count": 16,
     "metadata": {},
     "output_type": "execute_result"
    }
   ],
   "source": [
    "a.extend([13])\n",
    "a"
   ]
  },
  {
   "cell_type": "code",
   "execution_count": 17,
   "metadata": {},
   "outputs": [
    {
     "data": {
      "text/plain": [
       "{1: 'Áabha', 3: 'Aditi', 7: 'Ankit', 8: 'Anmol', 64: 'Vishesh'}"
      ]
     },
     "execution_count": 17,
     "metadata": {},
     "output_type": "execute_result"
    }
   ],
   "source": [
    "classs={ 1:'Áabha' , 3:'Aditi' , 7:'Ankit' , 8:'Anmol', 64:'Vishesh'}\n",
    "classs"
   ]
  },
  {
   "cell_type": "code",
   "execution_count": 18,
   "metadata": {},
   "outputs": [
    {
     "data": {
      "text/plain": [
       "{1: 'Áabha', 3: 'Aditi', 7: 'Ankit', 8: 'Anmol', 64: 'Vishesh', 65: 'Yatharth'}"
      ]
     },
     "execution_count": 18,
     "metadata": {},
     "output_type": "execute_result"
    }
   ],
   "source": [
    "classs.update({65:'Yatharth'})\n",
    "classs"
   ]
  },
  {
   "cell_type": "code",
   "execution_count": 19,
   "metadata": {},
   "outputs": [
    {
     "data": {
      "text/plain": [
       "dict_items([(1, 'Áabha'), (3, 'Aditi'), (7, 'Ankit'), (8, 'Anmol'), (64, 'Vishesh'), (65, 'Yatharth')])"
      ]
     },
     "execution_count": 19,
     "metadata": {},
     "output_type": "execute_result"
    }
   ],
   "source": [
    "classs.items()"
   ]
  },
  {
   "cell_type": "code",
   "execution_count": 20,
   "metadata": {},
   "outputs": [
    {
     "data": {
      "text/plain": [
       "dict_keys([1, 3, 7, 8, 64, 65])"
      ]
     },
     "execution_count": 20,
     "metadata": {},
     "output_type": "execute_result"
    }
   ],
   "source": [
    "classs.keys()"
   ]
  },
  {
   "cell_type": "code",
   "execution_count": 21,
   "metadata": {},
   "outputs": [
    {
     "data": {
      "text/plain": [
       "'Yatharth'"
      ]
     },
     "execution_count": 21,
     "metadata": {},
     "output_type": "execute_result"
    }
   ],
   "source": [
    "classs.pop(65)"
   ]
  },
  {
   "cell_type": "code",
   "execution_count": 22,
   "metadata": {},
   "outputs": [
    {
     "data": {
      "text/plain": [
       "(64, 'Vishesh')"
      ]
     },
     "execution_count": 22,
     "metadata": {},
     "output_type": "execute_result"
    }
   ],
   "source": [
    "classs.popitem()"
   ]
  },
  {
   "cell_type": "code",
   "execution_count": 23,
   "metadata": {},
   "outputs": [
    {
     "data": {
      "text/plain": [
       "dict_values(['Áabha', 'Aditi', 'Ankit', 'Anmol'])"
      ]
     },
     "execution_count": 23,
     "metadata": {},
     "output_type": "execute_result"
    }
   ],
   "source": [
    "classs.values()"
   ]
  },
  {
   "cell_type": "code",
   "execution_count": 24,
   "metadata": {},
   "outputs": [
    {
     "data": {
      "text/plain": [
       "{'V': None, 'i': None, 's': None, 'h': None, 'e': None}"
      ]
     },
     "execution_count": 24,
     "metadata": {},
     "output_type": "execute_result"
    }
   ],
   "source": [
    "classs.fromkeys('Vishesh')"
   ]
  },
  {
   "cell_type": "code",
   "execution_count": 25,
   "metadata": {},
   "outputs": [
    {
     "data": {
      "text/plain": [
       "'Áabha'"
      ]
     },
     "execution_count": 25,
     "metadata": {},
     "output_type": "execute_result"
    }
   ],
   "source": [
    "classs.get(1)"
   ]
  },
  {
   "cell_type": "code",
   "execution_count": 26,
   "metadata": {},
   "outputs": [
    {
     "data": {
      "text/plain": [
       "{1: 'Áabha', 3: 'Aditi', 7: 'Ankit', 8: 'Anmol'}"
      ]
     },
     "execution_count": 26,
     "metadata": {},
     "output_type": "execute_result"
    }
   ],
   "source": [
    "classs.copy()"
   ]
  },
  {
   "cell_type": "code",
   "execution_count": 27,
   "metadata": {},
   "outputs": [
    {
     "name": "stdout",
     "output_type": "stream",
     "text": [
      "name of a person: naman\n",
      "ÿes it is a palindrome\n"
     ]
    }
   ],
   "source": [
    "name=input(\"name of a person: \")\n",
    "def palin(name):\n",
    "    st=''\n",
    "    i=-1\n",
    "    for n in name:\n",
    "        st+=name[i]\n",
    "        i=i-1\n",
    "    if(st==name):\n",
    "        print(\"ÿes it is a palindrome\")\n",
    "    else:\n",
    "        print(\"no it is not a palndrome\")\n",
    "\n",
    "palin(name)"
   ]
  },
  {
   "cell_type": "code",
   "execution_count": 33,
   "metadata": {},
   "outputs": [
    {
     "name": "stdout",
     "output_type": "stream",
     "text": [
      "832040\n"
     ]
    }
   ],
   "source": [
    "def fibonacci(n):\n",
    "    if n<0:\n",
    "        print(\"Incorrect input\")\n",
    "    elif n==0:\n",
    "        return 0\n",
    "    elif n==1 or n==2:\n",
    "        return 1\n",
    "    else:\n",
    "        return fibonacci(n-1) + fibonacci(n-2)\n",
    "print(fibonacci(30))"
   ]
  },
  {
   "cell_type": "code",
   "execution_count": 37,
   "metadata": {},
   "outputs": [
    {
     "name": "stdout",
     "output_type": "stream",
     "text": [
      "{1: 1, 2: 4, 3: 9, 4: 16, 5: 25, 6: 36, 7: 49, 8: 64, 9: 81, 10: 100, 11: 121}\n"
     ]
    }
   ],
   "source": [
    " list=[1,2,3,4,5,6,7,8,9,10,11]\n",
    " d=dict()\n",
    "for x in (list):\n",
    "    d[x]=x**2\n",
    "print(d)"
   ]
  },
  {
   "cell_type": "code",
   "execution_count": 38,
   "metadata": {},
   "outputs": [
    {
     "name": "stdout",
     "output_type": "stream",
     "text": [
      "{1: 1, 2: 4, 3: 9, 4: 16, 5: 25, 6: 36, 7: 49, 8: 64, 9: 81, 10: 100, 11: 121, 12: 144, 13: 169, 14: 196, 15: 225, 16: 256, 17: 289, 18: 324, 19: 361, 20: 400}\n"
     ]
    }
   ],
   "source": [
    "d=dict()\n",
    "for x in range(1,21):\n",
    "    d[x]=x**2\n",
    "print(d)"
   ]
  },
  {
   "cell_type": "code",
   "execution_count": 41,
   "metadata": {},
   "outputs": [
    {
     "name": "stdout",
     "output_type": "stream",
     "text": [
      "enter anything: 0123456789\n",
      "9876543210"
     ]
    }
   ],
   "source": [
    "a=input(\"enter anything: \")\n",
    "b=-1\n",
    "for i in a:\n",
    "    print(a[b], end='')\n",
    "    b=b-1"
   ]
  },
  {
   "cell_type": "code",
   "execution_count": 44,
   "metadata": {},
   "outputs": [
    {
     "name": "stdout",
     "output_type": "stream",
     "text": [
      "enter first number: -100\n",
      "enter second number: 100\n",
      "size of list: 50\n",
      "[-97, -44, -41, -17, -20, -78, 10, 40, -76, -44, -24, -12, 48, 16, -99, 88, -67, -99, 67, 64, -61, -9, -17, 34, -21, -52, 87, -92, -38, 17, 26, 99, -9, -62, -69, 95, 85, 93, 20, -49, 43, 31, 90, -15, -94, -17, 32, 3, 51, -57]\n"
     ]
    }
   ],
   "source": [
    "import random \n",
    "a=int(input(\"enter first number: \"))\n",
    "b=int(input(\"enter second number: \"))\n",
    "c=int(input(\"size of list: \"))\n",
    "d=[]\n",
    "for i in range(c):\n",
    "    d.append(random.randint(a,b))\n",
    "print(d)"
   ]
  },
  {
   "cell_type": "code",
   "execution_count": 3,
   "metadata": {},
   "outputs": [
    {
     "name": "stdout",
     "output_type": "stream",
     "text": [
      "enter first number: -12.5\n",
      "enter second number: 12.5\n",
      "size of list: 5\n",
      "[7.920814036379269, 10.085869788651038, 8.384755735059198, -1.5501620653245265, -4.4767679004204]\n"
     ]
    }
   ],
   "source": [
    "import random \n",
    "a=float(input(\"enter first number: \"))\n",
    "b=float(input(\"enter second number: \"))\n",
    "c=int(input(\"size of list: \"))\n",
    "d=[]\n",
    "for i in range(c):\n",
    "    d.append(random.uniform(a,b))\n",
    "print(d)"
   ]
  },
  {
   "cell_type": "code",
   "execution_count": 4,
   "metadata": {},
   "outputs": [
    {
     "name": "stdout",
     "output_type": "stream",
     "text": [
      "enter first number: 1\n",
      "enter second number: 2\n",
      "size of list: 10\n",
      "[1.3440526524227938, 1.0703890985411524, 1.9856207345802548, 1.036161337910268, 1.2263150168844972, 1.032048392129596, 1.8270133909960447, 1.9490042448702147, 1.1605194708663165, 1.3713750731114391]\n"
     ]
    }
   ],
   "source": [
    "import random \n",
    "a=int(input(\"enter first number: \"))\n",
    "b=int(input(\"enter second number: \"))\n",
    "c=int(input(\"size of list: \"))\n",
    "d=[]\n",
    "for i in range(c):\n",
    "    d.append(random.uniform(a,b))\n",
    "print(d)"
   ]
  },
  {
   "cell_type": "code",
   "execution_count": 9,
   "metadata": {},
   "outputs": [
    {
     "name": "stdout",
     "output_type": "stream",
     "text": [
      "enter first number:255745745754\n",
      "enter second number:5751\n",
      "enter the operation:/\n",
      "the division of a & b is  44469787.12467397\n"
     ]
    }
   ],
   "source": [
    "a=float(input(\"enter first number:\"))\n",
    "b=float(input(\"enter second number:\"))\n",
    "operation=input(\"enter the operation:\")\n",
    "if(operation==\"+\"):\n",
    "    c=a + b \n",
    "    print(\"the sum of a & b is\", c)\n",
    "elif(operation==\"*\"):\n",
    "    c=a * b\n",
    "    print(\"the multiplication of a & b is\", c)\n",
    "elif(operation==\"/\"):\n",
    "    c=a/b\n",
    "    print(\"the division of a & b is \", c)\n",
    "elif(operation==\"-\"):\n",
    "    c=a - b\n",
    "    print(\"the substraction of a & b is \", c)"
   ]
  },
  {
   "cell_type": "code",
   "execution_count": 30,
   "metadata": {},
   "outputs": [
    {
     "data": {
      "text/plain": [
       "<__main__.poetry at 0x1ab7fb673d0>"
      ]
     },
     "execution_count": 30,
     "metadata": {},
     "output_type": "execute_result"
    }
   ],
   "source": [
    "##use of class and object \n",
    "class poetry():\n",
    "    def __init__(self, title, poems_count, author, price):\n",
    "        self.title=title\n",
    "        self.poems_count=poems_count\n",
    "        self. author= author\n",
    "        self.price=price\n",
    "poem=poetry(\"ptt by vishesh\", 300, \"vishesh jain\", 150)\n",
    "poem"
   ]
  },
  {
   "cell_type": "code",
   "execution_count": 11,
   "metadata": {},
   "outputs": [
    {
     "data": {
      "text/plain": [
       "poetry: ptt by vishesh by vishesh jain, price 150"
      ]
     },
     "execution_count": 11,
     "metadata": {},
     "output_type": "execute_result"
    }
   ],
   "source": [
    "class poetry():\n",
    "    def __init__(self, title, poems_count, author, price):\n",
    "        self.title=title\n",
    "        self.poems_count=poems_count\n",
    "        self. author= author\n",
    "        self.price=price\n",
    "    def __repr__(self):\n",
    "        return f'poetry: {self.title} by {self.author}, price {self.price}'\n",
    "poem=poetry(\"ptt by vishesh\", 300, \"vishesh jain\", 150)\n",
    "poem"
   ]
  },
  {
   "cell_type": "code",
   "execution_count": 31,
   "metadata": {},
   "outputs": [
    {
     "name": "stdout",
     "output_type": "stream",
     "text": [
      "150\n",
      "105.0\n",
      "Poetry: ptt by vishesh by vishesh jain, price 150\n",
      "Poetry: ptt by vishesh by vishesh jain, price 105.0\n"
     ]
    }
   ],
   "source": [
    "class poetry():\n",
    "    def __init__(self, title, poems_count, author, price):\n",
    "        self.title=title\n",
    "        self.poems_count=poems_count\n",
    "        self. author= author\n",
    "        self.__price=price\n",
    "        self.__discount=None\n",
    "    def set_discount(self, value):\n",
    "        self.__discount = value\n",
    "    def get_price(self):\n",
    "        if self.__discount is None:\n",
    "            return self.__price\n",
    "        else:\n",
    "            return self.__price * (1 - self.__discount)\n",
    "    def __repr__(self):\n",
    "        return f'Poetry: {self.title} by {self.author}, price {self.get_price()}' \n",
    "retail_purchase=poetry(\"ptt by vishesh\", 300, \"vishesh jain\", 150)\n",
    "bulk_purchase =poetry(\"ptt by vishesh\", 300, \"vishesh jain\", 150)\n",
    "bulk_purchase.set_discount(0.30)\n",
    "print(retail_purchase.get_price())\n",
    "print(bulk_purchase.get_price())\n",
    "print(retail_purchase)\n",
    "print(bulk_purchase) \n"
   ]
  },
  {
   "cell_type": "code",
   "execution_count": 29,
   "metadata": {},
   "outputs": [
    {
     "data": {
      "text/plain": [
       "poetry: ptt by vishesh by vishesh jain, price 147.75"
      ]
     },
     "execution_count": 29,
     "metadata": {},
     "output_type": "execute_result"
    }
   ],
   "source": [
    "class Book():\n",
    "    def __init__(self, title, author, price):\n",
    "        self.title = title\n",
    "        self.author = author\n",
    "        self.__price = price\n",
    "        self.__discount = None\n",
    "    def set_discount(self, value):\n",
    "        self.__discount = value\n",
    "    def get_price(self):\n",
    "        if self.__discount is None:\n",
    "            return self.__price\n",
    "        else:\n",
    "            return self.__price * (1 - self.__discount) \n",
    "class poetry(Book):\n",
    "    def __init__(self, title, poems_count, author, price):\n",
    "        super().__init__(title, author, price)\n",
    "        self.poems_count = poems_count\n",
    "    def __repr__(self):\n",
    "        return f'poetry: {self.title} by {self.author}, price {self.get_price()}'   \n",
    "poem=poetry(\"ptt by vishesh\", 300, \"vishesh jain\", 150)\n",
    "poem\n",
    "poem.set_discount(0.015)\n",
    "poem"
   ]
  },
  {
   "cell_type": "code",
   "execution_count": 33,
   "metadata": {},
   "outputs": [
    {
     "name": "stdout",
     "output_type": "stream",
     "text": [
      "comedy Play: nukkad natak by Anmol Agarwal, price 160\n",
      "Novel: To kill a imposter by Vishesh Jain, price 310\n"
     ]
    }
   ],
   "source": [
    "class Play(Book):\n",
    "    def __init__(self, title, genre, author, price):\n",
    "        super().__init__(title, author, price)\n",
    "        self.genre = genre\n",
    "    def __repr__(self):\n",
    "        return f'{self.genre} Play: {self.title} by {self.author}, price {self.get_price()}'\n",
    "class Novel(Book):\n",
    "    def __init__(self, title, pages, author, price):\n",
    "        super().__init__(title, author, price)\n",
    "        self.pages = pages\n",
    "    def __repr__(self):\n",
    "        return f'Novel: {self.title} by {self.author}, price {self.get_price()}' \n",
    "play = Play('nukkad natak', 'comedy', 'Anmol Agarwal', 160)\n",
    "novel = Novel('To kill a imposter', 281, 'Vishesh Jain', 310)\n",
    "print(play)\n",
    "print(novel)"
   ]
  },
  {
   "cell_type": "code",
   "execution_count": null,
   "metadata": {},
   "outputs": [],
   "source": []
  }
 ],
 "metadata": {
  "kernelspec": {
   "display_name": "Python 3",
   "language": "python",
   "name": "python3"
  },
  "language_info": {
   "codemirror_mode": {
    "name": "ipython",
    "version": 3
   },
   "file_extension": ".py",
   "mimetype": "text/x-python",
   "name": "python",
   "nbconvert_exporter": "python",
   "pygments_lexer": "ipython3",
   "version": "3.8.5"
  }
 },
 "nbformat": 4,
 "nbformat_minor": 4
}
