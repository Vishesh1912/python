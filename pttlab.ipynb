{
 "cells": [
  {
   "cell_type": "code",
   "execution_count": 17,
   "id": "77a29f7b",
   "metadata": {},
   "outputs": [
    {
     "name": "stdout",
     "output_type": "stream",
     "text": [
      "hello world\n"
     ]
    }
   ],
   "source": [
    "##date:25/08/2022\n",
    "print(\"hello world\");"
   ]
  },
  {
   "cell_type": "code",
   "execution_count": 18,
   "id": "28dc5012",
   "metadata": {},
   "outputs": [
    {
     "name": "stdout",
     "output_type": "stream",
     "text": [
      "a=5\n"
     ]
    }
   ],
   "source": [
    "print(\"a=5\")"
   ]
  },
  {
   "cell_type": "code",
   "execution_count": 19,
   "id": "f439df02",
   "metadata": {},
   "outputs": [
    {
     "name": "stdout",
     "output_type": "stream",
     "text": [
      "11\n"
     ]
    }
   ],
   "source": [
    "a=5;\n",
    "b=6;\n",
    "print(a+b)"
   ]
  },
  {
   "cell_type": "code",
   "execution_count": 20,
   "id": "7285fdf4",
   "metadata": {},
   "outputs": [
    {
     "name": "stdout",
     "output_type": "stream",
     "text": [
      "vishesh jain\n"
     ]
    }
   ],
   "source": [
    "x=\"vishesh\"\n",
    "y=\"jain\"\n",
    "print(x+\" \"+y)\n"
   ]
  },
  {
   "cell_type": "code",
   "execution_count": 21,
   "id": "09c70f5e",
   "metadata": {},
   "outputs": [
    {
     "name": "stdout",
     "output_type": "stream",
     "text": [
      "65\n"
     ]
    }
   ],
   "source": [
    "a=\"6\"\n",
    "b=\"5\"\n",
    "print(a+b)\n",
    "    "
   ]
  },
  {
   "cell_type": "code",
   "execution_count": 22,
   "id": "cbd7a4f4",
   "metadata": {},
   "outputs": [
    {
     "name": "stdout",
     "output_type": "stream",
     "text": [
      "MyapplesareRed&Green\n"
     ]
    }
   ],
   "source": [
    "#date:30/08/2022\n",
    "a=\"My apples are Red & Green\"\n",
    "b=[\"My\",\"applesare Red & Green\"]\n",
    "c=[\"My\",\"apples\",\"are Red & Green\"]\n",
    "d=[\"My\",\"apples\",\"are\",\"Red & Green\"]\n",
    "e=[\"My\",\"apples\",\"are\",\"Red\",\"& Green\"]\n",
    "f=[\"My\",\"apples\",\"are\",\"Red\",\"&\",\"Green\"]\n",
    "print(f[0]+f[1]+f[2]+f[3]+f[4]+f[5])"
   ]
  },
  {
   "cell_type": "code",
   "execution_count": 23,
   "id": "e1c4f78e",
   "metadata": {},
   "outputs": [
    {
     "name": "stdout",
     "output_type": "stream",
     "text": [
      "<class 'list'>\n",
      "vishesh jain\n"
     ]
    }
   ],
   "source": [
    "a=[\"vishesh\",\"jain\"]\n",
    "print(type(a))\n",
    "print(a[0]+\" \"+a[1])"
   ]
  },
  {
   "cell_type": "code",
   "execution_count": 24,
   "id": "ef3d1d08",
   "metadata": {},
   "outputs": [
    {
     "name": "stdout",
     "output_type": "stream",
     "text": [
      "['my ', 'name ', 'is ', 'vishesh ', 'jain ']\n"
     ]
    }
   ],
   "source": [
    "\n",
    "a=\"my name is vishesh jain \"\n",
    "word=[]\n",
    "w=\"\"\n",
    "c=\"\"\n",
    "for words in (a):  \n",
    "    c+=words\n",
    "    if(words==' '):\n",
    "     word.append(c)\n",
    "     c=\"\"\n",
    "print(word)"
   ]
  },
  {
   "cell_type": "code",
   "execution_count": 1,
   "id": "257c2aa5",
   "metadata": {},
   "outputs": [
    {
     "name": "stdout",
     "output_type": "stream",
     "text": [
      "enter first number:581220\n",
      "enter second number:50100\n",
      "enter the operation:/\n",
      "the division of a & b is  11.60119760479042\n"
     ]
    }
   ],
   "source": [
    "##date:01/09/2022\n",
    "a=float(input(\"enter first number:\"))\n",
    "b=float(input(\"enter second number:\"))\n",
    "operation=input(\"enter the operation:\")\n",
    "if(operation==\"+\"):\n",
    "    c=a + b \n",
    "    print(\"the sum of a & b is\", c)\n",
    "elif(operation==\"*\"):\n",
    "    c=a * b\n",
    "    print(\"the multiplication of a & b is\", c)\n",
    "elif(operation==\"/\"):\n",
    "    c=a/b\n",
    "    print(\"the division of a & b is \", c)\n",
    "elif(operation==\"-\"):\n",
    "    c=a - b\n",
    "    print(\"the substraction of a & b is \", c)"
   ]
  },
  {
   "cell_type": "code",
   "execution_count": 2,
   "id": "77f933ab",
   "metadata": {},
   "outputs": [
    {
     "name": "stdout",
     "output_type": "stream",
     "text": [
      "enter a number559452\n",
      "number is even\n"
     ]
    }
   ],
   "source": [
    "num=int(input(\"enter a number\"))\n",
    "if(num%2==0):\n",
    "    print(\"number is even\")\n",
    "else:\n",
    "    print(\"number is odd\")"
   ]
  },
  {
   "cell_type": "code",
   "execution_count": 4,
   "id": "24a2ae0d",
   "metadata": {},
   "outputs": [
    {
     "name": "stdout",
     "output_type": "stream",
     "text": [
      "enter any character:*\n",
      "enter any number:8\n",
      "        * \n",
      "       * * \n",
      "      * * * \n",
      "     * * * * \n",
      "    * * * * * \n",
      "   * * * * * * \n",
      "  * * * * * * * \n",
      " * * * * * * * * \n"
     ]
    }
   ],
   "source": [
    "a=input(\"enter any character:\")\n",
    "b=int(input(\"enter any number:\"))\n",
    "c=b-1\n",
    "for i in range(b):\n",
    "    print((c)*(\" \"), end = ' ')\n",
    "    print((i+1)*(a+\" \"))\n",
    "    c-=1"
   ]
  },
  {
   "cell_type": "code",
   "execution_count": 3,
   "id": "45141d35",
   "metadata": {},
   "outputs": [
    {
     "name": "stdout",
     "output_type": "stream",
     "text": [
      "enter any character:*\n",
      "enter any number:9\n",
      " * * * * * * * * * \n",
      "  * * * * * * * * \n",
      "   * * * * * * * \n",
      "    * * * * * * \n",
      "     * * * * * \n",
      "      * * * * \n",
      "       * * * \n",
      "        * * \n",
      "         * \n"
     ]
    }
   ],
   "source": [
    "a=input(\"enter any character:\")\n",
    "b=int(input(\"enter any number:\"))\n",
    "c=0\n",
    "for i in range(b):\n",
    "    print((c)*(\" \"), end = ' ')\n",
    "    print((b)*(a+\" \"))\n",
    "    b=b-1\n",
    "    c=c+1"
   ]
  },
  {
   "cell_type": "code",
   "execution_count": 9,
   "id": "e0e62efe",
   "metadata": {},
   "outputs": [
    {
     "name": "stdout",
     "output_type": "stream",
     "text": [
      "enter any character:*\n",
      "enter any number:8\n",
      "        * \n",
      "       * * \n",
      "      * * * \n",
      "     * * * * \n",
      "    * * * * * \n",
      "   * * * * * * \n",
      "  * * * * * * * \n",
      " * * * * * * * * \n",
      "  * * * * * * *\n",
      "   * * * * * *\n",
      "    * * * * *\n",
      "     * * * *\n",
      "      * * *\n",
      "       * *\n",
      "        *\n"
     ]
    }
   ],
   "source": [
    "a=input(\"enter any character:\")\n",
    "b=int(input(\"enter any number:\"))\n",
    "c=b-1\n",
    "for i in range(b):\n",
    "     print((c)*(\" \"), end = ' ')\n",
    "     print((i+1)*(a+\" \"))\n",
    "     c-=1\n",
    "     if(i==b-1):\n",
    "        b=b-1\n",
    "        c=0\n",
    "        for i in range(b):\n",
    "            print((c)*(\" \"), end = ' ')\n",
    "            print((b)*(\" \"+a))\n",
    "            b=b-1\n",
    "            c=c+1"
   ]
  },
  {
   "cell_type": "code",
   "execution_count": 11,
   "id": "a0de4ec8",
   "metadata": {},
   "outputs": [
    {
     "name": "stdout",
     "output_type": "stream",
     "text": [
      "enter any character:*\n",
      "enter any number:9\n",
      "         * \n",
      "        * * \n",
      "       * * * \n",
      "      * * * * \n",
      "     * * * * * \n",
      "    * * * * * * \n",
      "   * * * * * * * \n",
      "  * * * * * * * * \n",
      " * * * * * * * * * \n"
     ]
    }
   ],
   "source": [
    "def triangle(a,b):\n",
    "    c=b-1\n",
    "    for i in range(b):\n",
    "        print((c)*(\" \"), end = ' ')\n",
    "        print((i+1)*(a+\" \"))\n",
    "        c-=1\n",
    "a=input(\"enter any character:\")\n",
    "b=int(input(\"enter any number:\"))\n",
    "triangle(a,b)        "
   ]
  },
  {
   "cell_type": "code",
   "execution_count": 49,
   "id": "0279516d",
   "metadata": {},
   "outputs": [
    {
     "name": "stdout",
     "output_type": "stream",
     "text": [
      "anmol vishesh "
     ]
    }
   ],
   "source": [
    "##Date:0709/2022\n",
    "a=['anmol', 'vishesh']\n",
    "for i in a:\n",
    "    print(i, end=' ')"
   ]
  },
  {
   "cell_type": "code",
   "execution_count": 50,
   "id": "4973f329",
   "metadata": {},
   "outputs": [
    {
     "data": {
      "text/plain": [
       "['vishesh']"
      ]
     },
     "execution_count": 50,
     "metadata": {},
     "output_type": "execute_result"
    }
   ],
   "source": [
    "a[1:3]"
   ]
  },
  {
   "cell_type": "code",
   "execution_count": 51,
   "id": "f2a50d59",
   "metadata": {},
   "outputs": [
    {
     "data": {
      "text/plain": [
       "['anmol', 'vishesh', 'mayur']"
      ]
     },
     "execution_count": 51,
     "metadata": {},
     "output_type": "execute_result"
    }
   ],
   "source": [
    "a.append('mayur')\n",
    "a"
   ]
  },
  {
   "cell_type": "code",
   "execution_count": 52,
   "id": "f73d167b",
   "metadata": {},
   "outputs": [
    {
     "data": {
      "text/plain": [
       "[1, 2, 3, 4, 5, 6]"
      ]
     },
     "execution_count": 52,
     "metadata": {},
     "output_type": "execute_result"
    }
   ],
   "source": [
    "b=[1,2,3,4,5]\n",
    "b.append(6)\n",
    "b"
   ]
  },
  {
   "cell_type": "code",
   "execution_count": 53,
   "id": "fc77f3d5",
   "metadata": {},
   "outputs": [
    {
     "data": {
      "text/plain": [
       "[1, 2, 3, 4, 5, 6, 7, 8]"
      ]
     },
     "execution_count": 53,
     "metadata": {},
     "output_type": "execute_result"
    }
   ],
   "source": [
    "b.extend([7,8])\n",
    "b"
   ]
  },
  {
   "cell_type": "code",
   "execution_count": 54,
   "id": "3d7be141",
   "metadata": {},
   "outputs": [
    {
     "data": {
      "text/plain": [
       "[1, 2, 3, 4, 5, 6, 7]"
      ]
     },
     "execution_count": 54,
     "metadata": {},
     "output_type": "execute_result"
    }
   ],
   "source": [
    "b.remove(8)\n",
    "b"
   ]
  },
  {
   "cell_type": "code",
   "execution_count": 55,
   "id": "5d480225",
   "metadata": {},
   "outputs": [
    {
     "data": {
      "text/plain": [
       "[1, 2, 3, 4, 5, 6, 7, 8, 9, 10, 11]"
      ]
     },
     "execution_count": 55,
     "metadata": {},
     "output_type": "execute_result"
    }
   ],
   "source": [
    "b[8:8]=[8,9,10,11]\n",
    "b"
   ]
  },
  {
   "cell_type": "code",
   "execution_count": 56,
   "id": "01e6d921",
   "metadata": {},
   "outputs": [
    {
     "data": {
      "text/plain": [
       "[1, 2, 3, 4, 5, 6, 7, 8, 9, 10]"
      ]
     },
     "execution_count": 56,
     "metadata": {},
     "output_type": "execute_result"
    }
   ],
   "source": [
    "del b[10]\n",
    "b"
   ]
  },
  {
   "cell_type": "code",
   "execution_count": 57,
   "id": "95a98ad8",
   "metadata": {},
   "outputs": [
    {
     "data": {
      "text/plain": [
       "[1, 4, 5, 6, 7, 8, 9, 10]"
      ]
     },
     "execution_count": 57,
     "metadata": {},
     "output_type": "execute_result"
    }
   ],
   "source": [
    "del b[1:3]\n",
    "b"
   ]
  },
  {
   "cell_type": "code",
   "execution_count": 58,
   "id": "dfd4a5d0",
   "metadata": {},
   "outputs": [
    {
     "data": {
      "text/plain": [
       "{1: 'Ankit', 2: 'Anmol', 3: 'Narayan', 4: 'Sandeep', 5: 'Vishesh'}"
      ]
     },
     "execution_count": 58,
     "metadata": {},
     "output_type": "execute_result"
    }
   ],
   "source": [
    "c={1:'Ankit', 2:'Anmol', 3:'Narayan', 4:'Sandeep', 5:'Vishesh'}\n",
    "c"
   ]
  },
  {
   "cell_type": "code",
   "execution_count": 59,
   "id": "df912a61",
   "metadata": {},
   "outputs": [
    {
     "data": {
      "text/plain": [
       "{1: 'Ankit', 2: 'Anmol', 3: 'Narayan', 4: 'Sandeep', 5: 'Vishesh', 6: 'Mayur'}"
      ]
     },
     "execution_count": 59,
     "metadata": {},
     "output_type": "execute_result"
    }
   ],
   "source": [
    "c.update({6:'Mayur'})\n",
    "c"
   ]
  },
  {
   "cell_type": "code",
   "execution_count": 60,
   "id": "9c385a78",
   "metadata": {},
   "outputs": [
    {
     "data": {
      "text/plain": [
       "dict_items([(1, 'Ankit'), (2, 'Anmol'), (3, 'Narayan'), (4, 'Sandeep'), (5, 'Vishesh'), (6, 'Mayur')])"
      ]
     },
     "execution_count": 60,
     "metadata": {},
     "output_type": "execute_result"
    }
   ],
   "source": [
    "c.items()"
   ]
  },
  {
   "cell_type": "code",
   "execution_count": 61,
   "id": "e6eb6e2f",
   "metadata": {},
   "outputs": [
    {
     "data": {
      "text/plain": [
       "dict_keys([1, 2, 3, 4, 5, 6])"
      ]
     },
     "execution_count": 61,
     "metadata": {},
     "output_type": "execute_result"
    }
   ],
   "source": [
    "c.keys()"
   ]
  },
  {
   "cell_type": "code",
   "execution_count": 62,
   "id": "9962bfcc",
   "metadata": {},
   "outputs": [
    {
     "data": {
      "text/plain": [
       "dict_values(['Ankit', 'Anmol', 'Narayan', 'Sandeep', 'Vishesh', 'Mayur'])"
      ]
     },
     "execution_count": 62,
     "metadata": {},
     "output_type": "execute_result"
    }
   ],
   "source": [
    "c.values()"
   ]
  },
  {
   "cell_type": "code",
   "execution_count": 63,
   "id": "69caba01",
   "metadata": {},
   "outputs": [
    {
     "data": {
      "text/plain": [
       "'Mayur'"
      ]
     },
     "execution_count": 63,
     "metadata": {},
     "output_type": "execute_result"
    }
   ],
   "source": [
    "c.pop(6)"
   ]
  },
  {
   "cell_type": "code",
   "execution_count": 64,
   "id": "97715066",
   "metadata": {},
   "outputs": [
    {
     "data": {
      "text/plain": [
       "(5, 'Vishesh')"
      ]
     },
     "execution_count": 64,
     "metadata": {},
     "output_type": "execute_result"
    }
   ],
   "source": [
    "c.popitem()"
   ]
  },
  {
   "cell_type": "code",
   "execution_count": 65,
   "id": "a9fe9470",
   "metadata": {},
   "outputs": [
    {
     "data": {
      "text/plain": [
       "{'S': None, 'a': None, 'n': None, 'd': None, 'e': None, 'p': None}"
      ]
     },
     "execution_count": 65,
     "metadata": {},
     "output_type": "execute_result"
    }
   ],
   "source": [
    "c.fromkeys('Sandeep')"
   ]
  },
  {
   "cell_type": "code",
   "execution_count": 66,
   "id": "c526a94e",
   "metadata": {},
   "outputs": [
    {
     "data": {
      "text/plain": [
       "'Sandeep'"
      ]
     },
     "execution_count": 66,
     "metadata": {},
     "output_type": "execute_result"
    }
   ],
   "source": [
    "c.get(4)"
   ]
  },
  {
   "cell_type": "code",
   "execution_count": 67,
   "id": "216f8528",
   "metadata": {},
   "outputs": [
    {
     "data": {
      "text/plain": [
       "{1: 'Ankit', 2: 'Anmol', 3: 'Narayan', 4: 'Sandeep'}"
      ]
     },
     "execution_count": 67,
     "metadata": {},
     "output_type": "execute_result"
    }
   ],
   "source": [
    "c.copy()"
   ]
  },
  {
   "cell_type": "code",
   "execution_count": 3,
   "id": "9c71da51",
   "metadata": {},
   "outputs": [
    {
     "name": "stdout",
     "output_type": "stream",
     "text": [
      "name of a person: naman\n",
      "yes it is a palindrome\n"
     ]
    }
   ],
   "source": [
    "name=input(\"name of a person: \")\n",
    "def palin(name):\n",
    "    st=''\n",
    "    i=-1\n",
    "    for n in name:\n",
    "        st+=name[i]\n",
    "        i=i-1\n",
    "    if(st==name):\n",
    "        print(\"yes it is a palindrome\")\n",
    "    else:\n",
    "        print(\"no, it is not palindrome\")\n",
    "palin(name)"
   ]
  },
  {
   "cell_type": "code",
   "execution_count": 1,
   "id": "f5985fbb",
   "metadata": {},
   "outputs": [
    {
     "name": "stdout",
     "output_type": "stream",
     "text": [
      "enter any number: 25\n",
      "75025\n"
     ]
    }
   ],
   "source": [
    "n=int(input(\"enter any number: \"))\n",
    "def fibonacci(n):\n",
    "    if n<0:\n",
    "        print(\"Incorrect Number\")\n",
    "    elif n==0:\n",
    "        return 0\n",
    "    elif n==1 or n==2:\n",
    "        return 1\n",
    "    else:\n",
    "        return fibonacci(n-1) + fibonacci(n-2)\n",
    "print(fibonacci(n))"
   ]
  },
  {
   "cell_type": "code",
   "execution_count": 69,
   "id": "ab515a02",
   "metadata": {},
   "outputs": [
    {
     "data": {
      "text/plain": [
       "{1: 1, 2: 4, 3: 9, 4: 16, 5: 25, 6: 36, 7: 49, 8: 64, 9: 81, 10: 100, 11: 121}"
      ]
     },
     "execution_count": 69,
     "metadata": {},
     "output_type": "execute_result"
    }
   ],
   "source": [
    "##date:08/09/2022\n",
    "##input: list of number, output:dict() keys:number and values as their square\n",
    "a=[1,2,3,4,5,6,7,8,9,10,11]\n",
    "b=dict()\n",
    "for i in a:\n",
    "    b[i]=i**2\n",
    "b"
   ]
  },
  {
   "cell_type": "code",
   "execution_count": 70,
   "id": "8bf5d699",
   "metadata": {},
   "outputs": [
    {
     "data": {
      "text/plain": [
       "{1: 1,\n",
       " 2: 4,\n",
       " 3: 9,\n",
       " 4: 16,\n",
       " 5: 25,\n",
       " 6: 36,\n",
       " 7: 49,\n",
       " 8: 64,\n",
       " 9: 81,\n",
       " 10: 100,\n",
       " 11: 121,\n",
       " 12: 144,\n",
       " 13: 169,\n",
       " 14: 196,\n",
       " 15: 225}"
      ]
     },
     "execution_count": 70,
     "metadata": {},
     "output_type": "execute_result"
    }
   ],
   "source": [
    "a=dict()\n",
    "for i in range(1,16):\n",
    "    a[i]=i**2\n",
    "a    "
   ]
  },
  {
   "cell_type": "code",
   "execution_count": 71,
   "id": "6224c5af",
   "metadata": {},
   "outputs": [
    {
     "name": "stdout",
     "output_type": "stream",
     "text": [
      "enter anything: 0123456789\n",
      "9876543210"
     ]
    }
   ],
   "source": [
    "##input: number or string \n",
    "##output: reverse order of input\n",
    "a=input(\"enter anything: \")\n",
    "b=-1\n",
    "for i in a:\n",
    "    print(a[b], end='')\n",
    "    b=b-1"
   ]
  },
  {
   "cell_type": "code",
   "execution_count": 2,
   "id": "92541806",
   "metadata": {},
   "outputs": [
    {
     "name": "stdout",
     "output_type": "stream",
     "text": [
      "enter first number: -10\n",
      "enter second number: 10\n",
      "size of list: 10\n"
     ]
    },
    {
     "data": {
      "text/plain": [
       "[8, -9, 0, -6, -2, -6, -5, 6, -1, 2]"
      ]
     },
     "execution_count": 2,
     "metadata": {},
     "output_type": "execute_result"
    }
   ],
   "source": [
    "##input: range of number and size of list\n",
    "##output: list with random number of given size\n",
    "import random\n",
    "a=int(input(\"enter first number: \"))\n",
    "b=int(input(\"enter second number: \"))\n",
    "c=int(input(\"size of list: \"))\n",
    "d=[]\n",
    "for i in range(c):\n",
    "    d.append(random.randint(a,b))\n",
    "d    "
   ]
  },
  {
   "cell_type": "code",
   "execution_count": 5,
   "id": "722098e0",
   "metadata": {},
   "outputs": [
    {
     "name": "stdout",
     "output_type": "stream",
     "text": [
      "enter first number: 1\n",
      "enter second number: 2\n",
      "size of list: 3\n"
     ]
    },
    {
     "data": {
      "text/plain": [
       "[1.8189736420649687, 1.9445226875416664, 1.435602894485645]"
      ]
     },
     "execution_count": 5,
     "metadata": {},
     "output_type": "execute_result"
    }
   ],
   "source": [
    "import random\n",
    "a=int(input(\"enter first number: \"))\n",
    "b=int(input(\"enter second number: \"))\n",
    "c=int(input(\"size of list: \"))\n",
    "d=[]\n",
    "for i in range(c):\n",
    "    d.append(random.uniform(a,b))\n",
    "d    "
   ]
  },
  {
   "cell_type": "code",
   "execution_count": 7,
   "id": "47f3955f",
   "metadata": {},
   "outputs": [
    {
     "name": "stdout",
     "output_type": "stream",
     "text": [
      "enter first number: 0.01\n",
      "enter second number: 0.02\n",
      "size of list: 2\n"
     ]
    },
    {
     "data": {
      "text/plain": [
       "[0.01761996187973884, 0.017715666746933832]"
      ]
     },
     "execution_count": 7,
     "metadata": {},
     "output_type": "execute_result"
    }
   ],
   "source": [
    "import random\n",
    "a=float(input(\"enter first number: \"))\n",
    "b=float(input(\"enter second number: \"))\n",
    "c=int(input(\"size of list: \"))\n",
    "d=[]\n",
    "for i in range(c):\n",
    "    d.append(random.uniform(a,b))\n",
    "d    "
   ]
  },
  {
   "cell_type": "code",
   "execution_count": 2,
   "id": "4dc46a12",
   "metadata": {},
   "outputs": [
    {
     "name": "stdout",
     "output_type": "stream",
     "text": [
      "enter first number: 1542\n",
      "enter second number: 25\n",
      "enter operation number:3\n",
      "38550.0\n"
     ]
    }
   ],
   "source": [
    "##date:12/09/2022\n",
    "##program for a simple calculator\n",
    "##function for addition\n",
    "def add(a,b):\n",
    "    return a+b\n",
    "def subtract(a,b):      ## function for subtraction\n",
    "    return a-b\n",
    "def multiplies(a,b):     ##function for multiplication\n",
    "    return a*b\n",
    "def divides(a,b):       ## function for division\n",
    "    return a/b\n",
    "a=float(input(\"enter first number: \"))\n",
    "b=float(input(\"enter second number: \"))\n",
    "c=int(input(\"enter operation number:\"))\n",
    "if(c==1):\n",
    "    print(add(a,b))\n",
    "elif(c==2):\n",
    "    print(subtract(a,b))\n",
    "elif(c==3):\n",
    "    print(multiplies(a,b))\n",
    "elif(c==4):\n",
    "    print(divides(a,b))"
   ]
  },
  {
   "cell_type": "code",
   "execution_count": 3,
   "id": "33a88d9b",
   "metadata": {},
   "outputs": [
    {
     "data": {
      "text/plain": [
       "<__main__.poetry at 0x22c05d22890>"
      ]
     },
     "execution_count": 3,
     "metadata": {},
     "output_type": "execute_result"
    }
   ],
   "source": [
    "##date:14/09/2022\n",
    "##use of class and object \n",
    "class poetry():\n",
    "    def __init__(self, title, poems_count, author, price):\n",
    "        self.title=title\n",
    "        self.poems_count=poems_count\n",
    "        self. author= author\n",
    "        self.price=price\n",
    "poem=poetry(\"ptt by vishesh\", 300, \"vishesh jain\", 150)\n",
    "poem"
   ]
  },
  {
   "cell_type": "code",
   "execution_count": 4,
   "id": "f28352c4",
   "metadata": {},
   "outputs": [
    {
     "data": {
      "text/plain": [
       "poetry: ptt by vishesh by vishesh jain, price 150"
      ]
     },
     "execution_count": 4,
     "metadata": {},
     "output_type": "execute_result"
    }
   ],
   "source": [
    "class poetry():\n",
    "    def __init__(self, title, poems_count, author, price):\n",
    "        self.title=title\n",
    "        self.poems_count=poems_count\n",
    "        self. author= author\n",
    "        self.price=price\n",
    "    def __repr__(self):\n",
    "        return f'poetry: {self.title} by {self.author}, price {self.price}'\n",
    "poem=poetry(\"ptt by vishesh\", 300, \"vishesh jain\", 150)\n",
    "poem"
   ]
  },
  {
   "cell_type": "code",
   "execution_count": 6,
   "id": "76bab43f",
   "metadata": {},
   "outputs": [
    {
     "name": "stdout",
     "output_type": "stream",
     "text": [
      "150\n",
      "105.0\n",
      "Poetry: ptt by vishesh by vishesh jain, price 150\n",
      "Poetry: ptt by vishesh by vishesh jain, price 105.0\n"
     ]
    }
   ],
   "source": [
    "class poetry():\n",
    "    def __init__(self, title, poems_count, author, price):\n",
    "        self.title=title\n",
    "        self.poems_count=poems_count\n",
    "        self. author= author\n",
    "        self.__price=price\n",
    "        self.__discount=None\n",
    "    def set_discount(self, value):\n",
    "        self.__discount = value\n",
    "    def get_price(self):\n",
    "        if self.__discount is None:\n",
    "            return self.__price\n",
    "        else:\n",
    "            return self.__price * (1 - self.__discount)\n",
    "    def __repr__(self):\n",
    "        return f'Poetry: {self.title} by {self.author}, price {self.get_price()}' \n",
    "retail_purchase=poetry(\"ptt by vishesh\", 300, \"vishesh jain\", 150)\n",
    "bulk_purchase =poetry(\"ptt by vishesh\", 300, \"vishesh jain\", 150)\n",
    "bulk_purchase.set_discount(0.30)\n",
    "print(retail_purchase.get_price())\n",
    "print(bulk_purchase.get_price())\n",
    "print(retail_purchase)\n",
    "print(bulk_purchase) \n"
   ]
  },
  {
   "cell_type": "code",
   "execution_count": 7,
   "id": "5584c68f",
   "metadata": {},
   "outputs": [
    {
     "data": {
      "text/plain": [
       "poetry: ptt by vishesh by vishesh jain, price 147.75"
      ]
     },
     "execution_count": 7,
     "metadata": {},
     "output_type": "execute_result"
    }
   ],
   "source": [
    "class Book():\n",
    "    def __init__(self, title, author, price):\n",
    "        self.title = title\n",
    "        self.author = author\n",
    "        self.__price = price\n",
    "        self.__discount = None\n",
    "    def set_discount(self, value):\n",
    "        self.__discount = value\n",
    "    def get_price(self):\n",
    "        if self.__discount is None:\n",
    "            return self.__price\n",
    "        else:\n",
    "            return self.__price * (1 - self.__discount) \n",
    "class poetry(Book):\n",
    "    def __init__(self, title, poems_count, author, price):\n",
    "        super().__init__(title, author, price)\n",
    "        self.poems_count = poems_count\n",
    "    def __repr__(self):\n",
    "        return f'poetry: {self.title} by {self.author}, price {self.get_price()}'   \n",
    "poem=poetry(\"ptt by vishesh\", 300, \"vishesh jain\", 150)\n",
    "poem\n",
    "poem.set_discount(0.015)\n",
    "poem"
   ]
  },
  {
   "cell_type": "code",
   "execution_count": 8,
   "id": "3fef7a86",
   "metadata": {},
   "outputs": [
    {
     "name": "stdout",
     "output_type": "stream",
     "text": [
      "comedy Play: nukkad natak by Anmol Agarwal, price 160\n",
      "Novel: To kill a imposter by Vishesh Jain, price 310\n"
     ]
    }
   ],
   "source": [
    "##Inheritance\n",
    "class Play(Book):\n",
    "    def __init__(self, title, genre, author, price):\n",
    "        super().__init__(title, author, price)\n",
    "        self.genre = genre\n",
    "    def __repr__(self):\n",
    "        return f'{self.genre} Play: {self.title} by {self.author}, price {self.get_price()}'\n",
    "class Novel(Book):\n",
    "    def __init__(self, title, pages, author, price):\n",
    "        super().__init__(title, author, price)\n",
    "        self.pages = pages\n",
    "    def __repr__(self):\n",
    "        return f'Novel: {self.title} by {self.author}, price {self.get_price()}' \n",
    "play = Play('nukkad natak', 'comedy', 'Anmol Agarwal', 160)\n",
    "novel = Novel('To kill a imposter', 281, 'Vishesh Jain', 310)\n",
    "print(play)\n",
    "print(novel)"
   ]
  },
  {
   "cell_type": "code",
   "execution_count": 1,
   "id": "0e528d22",
   "metadata": {},
   "outputs": [
    {
     "name": "stdout",
     "output_type": "stream",
     "text": [
      "Milk and Honey by Rupi Kaur, price 320\n",
      "Comedy Play: An Ideal Husband by Oscar Wilde, price 240\n",
      "The Fullmetal Alchemist by Paulo Coelho, price 180\n"
     ]
    }
   ],
   "source": [
    "##Date:15/09/2022\n",
    "##Polymorphism\n",
    "class Book():\n",
    "    def __init__(self, title, author, price):\n",
    "        self.title = title\n",
    "        self.author = author\n",
    "        self.__price = price\n",
    "        self.__discount = None\n",
    "    def set_discount(self, value):\n",
    "        self.__discount = value\n",
    "    def get_price(self):\n",
    "        if self.__discount is None:\n",
    "            return self.__price\n",
    "        else:\n",
    "            return self.__price * (1 - self.__discount)\n",
    "    def __repr__(self):\n",
    "        return f'{self.title} by {self.author}, price {self.get_price()}'\n",
    "class Poetry(Book):\n",
    "    def __init__(self, title, poems_count, author, price):\n",
    "        super().__init__(title, author, price)\n",
    "        self.poems_count = poems_count\n",
    "class Play(Book):\n",
    "    def __init__(self, title, genre, author, price):\n",
    "        super().__init__(title, author, price)\n",
    "        self.genre = genre\n",
    "    def __repr__(self):\n",
    "        return f'{self.genre} Play: {self.title} by {self.author}, price {self.get_price()}'\n",
    "class Novel(Book):\n",
    "    def __init__(self, title, pages, author, price):\n",
    "        super().__init__(title, author, price)\n",
    "        self.pages = pages \n",
    "poem_2 = Poetry('Milk and Honey', 179, 'Rupi Kaur', 320)\n",
    "play_2 = Play('An Ideal Husband', 'Comedy', 'Oscar Wilde', 240)\n",
    "novel_2 = Novel('The Fullmetal Alchemist', 161, 'Paulo Coelho', 180)\n",
    "print(poem_2)\n",
    "print(play_2)\n",
    "print(novel_2)"
   ]
  },
  {
   "cell_type": "code",
   "execution_count": 2,
   "id": "eea53669",
   "metadata": {},
   "outputs": [
    {
     "name": "stdout",
     "output_type": "stream",
     "text": [
      "Life on Mars by Tracy K. Smith, price 100\n",
      "Tragedy Play: Death of a Salesman by Arthur Miller, price 240\n"
     ]
    }
   ],
   "source": [
    "##Abstraction\n",
    "from abc import ABC, abstractmethod\n",
    "class Book(ABC):\n",
    "    def __init__(self, title, author, price):\n",
    "        self.title = title\n",
    "        self.author = author\n",
    "        self.__price = price\n",
    "        self.__discount = None\n",
    "    def set_discount(self, value):\n",
    "        self.__discount = value\n",
    "    def get_price(self):\n",
    "        if self.__discount is None:\n",
    "            return self.__price\n",
    "        else:\n",
    "            return self.__price * (1 - self.__discount)\n",
    "    def __repr__(self):\n",
    "        return f'{self.title} by {self.author}, price {self.get_price()}'\n",
    "class Poetry(Book):\n",
    "    def __init__(self, title, poems_count, author, price):\n",
    "        super().__init__(title, author, price)\n",
    "        self.poems_count = poems_count\n",
    "class Play(Book):\n",
    "    def __init__(self, title, genre, author, price):\n",
    "        super().__init__(title, author, price)\n",
    "        self.genre = genre\n",
    "    def __repr__(self):\n",
    "        return f'{self.genre} Play: {self.title} by {self.author}, price {self.get_price()}' \n",
    "play_3 = Play('Death of a Salesman', 'Tragedy', 'Arthur Miller', 240)\n",
    "poem_3 = Poetry('Life on Mars', 33, 'Tracy K. Smith', 100) \n",
    "print(poem_3)\n",
    "print(play_3)"
   ]
  },
  {
   "cell_type": "code",
   "execution_count": 3,
   "id": "482e291b",
   "metadata": {},
   "outputs": [
    {
     "name": "stdout",
     "output_type": "stream",
     "text": [
      "Poetry: Life on Mars by Tracy K. Smith, 33 poems, price 100\n",
      "Play: Death of a Salesman by Arthur Miller, Tragedy genre, price 240\n",
      "Novel: Peril at End House by Agatha Christie, 270 pages, price 210\n"
     ]
    }
   ],
   "source": [
    "class Book(ABC):\n",
    "    def __init__(self, title, author, price):\n",
    "        self.title = title\n",
    "        self.author = author\n",
    "        self.__price = price\n",
    "        self.__discount = None\n",
    "\n",
    "    def set_discount(self, value):\n",
    "        self.__discount = value\n",
    "\n",
    "    def get_price(self):\n",
    "        if self.__discount is None:\n",
    "            return self.__price\n",
    "        else:\n",
    "            return self.__price * (1 - self.__discount)\n",
    "    def __repr__(self):\n",
    "        return f'{self.title} by {self.author}, price {self.get_price()}'\n",
    "class Poetry(Book):\n",
    "    def __init__(self, title, poems_count, author, price):\n",
    "        super().__init__(title, author, price)\n",
    "        self.poems_count = poems_count\n",
    "    def __repr__(self):\n",
    "        return f'Poetry: {self.title} by {self.author}, {self.poems_count} poems, price {self.get_price()}'\n",
    "class Play(Book):\n",
    "    def __init__(self, title, genre, author, price):\n",
    "        super().__init__(title, author, price)\n",
    "        self.genre = genre\n",
    "    def __repr__(self):\n",
    "        return f'Play: {self.title} by {self.author}, {self.genre} genre, price {self.get_price()}'\n",
    "class Novel(Book):\n",
    "    def __init__(self, title, pages, author, price):\n",
    "        super().__init__(title, author, price)\n",
    "        self.pages = pages\n",
    "    def __repr__(self):\n",
    "        return f'Novel: {self.title} by {self.author}, {self.pages} pages, price {self.get_price()}' \n",
    "poem_3 = Poetry('Life on Mars', 33, 'Tracy K. Smith', 100)\n",
    "play_3 = Play('Death of a Salesman', 'Tragedy', 'Arthur Miller', 240)\n",
    "novel_3 = Novel('Peril at End House', 270, 'Agatha Christie', 210)\n",
    "print(poem_3) \n",
    "print(play_3)\n",
    "print(novel_3) "
   ]
  },
  {
   "cell_type": "code",
   "execution_count": null,
   "id": "da6ab0c6",
   "metadata": {},
   "outputs": [],
   "source": []
  }
 ],
 "metadata": {
  "kernelspec": {
   "display_name": "Python 3 (ipykernel)",
   "language": "python",
   "name": "python3"
  },
  "language_info": {
   "codemirror_mode": {
    "name": "ipython",
    "version": 3
   },
   "file_extension": ".py",
   "mimetype": "text/x-python",
   "name": "python",
   "nbconvert_exporter": "python",
   "pygments_lexer": "ipython3",
   "version": "3.10.6"
  }
 },
 "nbformat": 4,
 "nbformat_minor": 5
}
