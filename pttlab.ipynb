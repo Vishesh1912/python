{
 "cells": [
  {
   "cell_type": "code",
   "execution_count": 1,
   "id": "77a29f7b",
   "metadata": {},
   "outputs": [
    {
     "name": "stdout",
     "output_type": "stream",
     "text": [
      "hello world\n"
     ]
    }
   ],
   "source": [
    "##date:25/08/2022\n",
    "print(\"hello world\");"
   ]
  },
  {
   "cell_type": "code",
   "execution_count": 3,
   "id": "28dc5012",
   "metadata": {},
   "outputs": [
    {
     "name": "stdout",
     "output_type": "stream",
     "text": [
      "a=5\n"
     ]
    }
   ],
   "source": [
    "print(\"a=5\")"
   ]
  },
  {
   "cell_type": "code",
   "execution_count": 5,
   "id": "f439df02",
   "metadata": {},
   "outputs": [
    {
     "name": "stdout",
     "output_type": "stream",
     "text": [
      "11\n"
     ]
    }
   ],
   "source": [
    "a=5;\n",
    "b=6;\n",
    "print(a+b)"
   ]
  },
  {
   "cell_type": "code",
   "execution_count": 11,
   "id": "7285fdf4",
   "metadata": {},
   "outputs": [
    {
     "name": "stdout",
     "output_type": "stream",
     "text": [
      "vishesh jain\n"
     ]
    }
   ],
   "source": [
    "x=\"vishesh\"\n",
    "y=\"jain\"\n",
    "print(x+\" \"+y)\n"
   ]
  },
  {
   "cell_type": "code",
   "execution_count": 12,
   "id": "09c70f5e",
   "metadata": {},
   "outputs": [
    {
     "name": "stdout",
     "output_type": "stream",
     "text": [
      "65\n"
     ]
    }
   ],
   "source": [
    "a=\"6\"\n",
    "b=\"5\"\n",
    "print(a+b)\n",
    "    "
   ]
  },
  {
   "cell_type": "code",
   "execution_count": 17,
   "id": "cbd7a4f4",
   "metadata": {},
   "outputs": [
    {
     "name": "stdout",
     "output_type": "stream",
     "text": [
      "MyapplesareRed&Green\n"
     ]
    }
   ],
   "source": [
    "#date:30/08/2022\n",
    "a=\"My apples are Red & Green\"\n",
    "b=[\"My\",\"applesare Red & Green\"]\n",
    "c=[\"My\",\"apples\",\"are Red & Green\"]\n",
    "d=[\"My\",\"apples\",\"are\",\"Red & Green\"]\n",
    "e=[\"My\",\"apples\",\"are\",\"Red\",\"& Green\"]\n",
    "f=[\"My\",\"apples\",\"are\",\"Red\",\"&\",\"Green\"]\n",
    "print(f[0]+f[1]+f[2]+f[3]+f[4]+f[5])"
   ]
  },
  {
   "cell_type": "code",
   "execution_count": 13,
   "id": "e1c4f78e",
   "metadata": {},
   "outputs": [
    {
     "name": "stdout",
     "output_type": "stream",
     "text": [
      "<class 'list'>\n",
      "vishesh jain\n"
     ]
    }
   ],
   "source": [
    "a=[\"vishesh\",\"jain\"]\n",
    "print(type(a))\n",
    "print(a[0]+\" \"+a[1])"
   ]
  },
  {
   "cell_type": "code",
   "execution_count": 8,
   "id": "ef3d1d08",
   "metadata": {},
   "outputs": [
    {
     "name": "stdout",
     "output_type": "stream",
     "text": [
      "['my ', 'name ', 'is ', 'vishesh ', 'jain ']\n"
     ]
    }
   ],
   "source": [
    "\n",
    "a=\"my name is vishesh jain \"\n",
    "word=[]\n",
    "w=\"\"\n",
    "c=\"\"\n",
    "for words in (a):  \n",
    "    c+=words\n",
    "    if(words==' '):\n",
    "     word.append(c)\n",
    "     c=\"\"\n",
    "print(word)"
   ]
  },
  {
   "cell_type": "code",
   "execution_count": 3,
   "id": "257c2aa5",
   "metadata": {},
   "outputs": [
    {
     "name": "stdout",
     "output_type": "stream",
     "text": [
      "enter first number:5\n",
      "enter second number:8\n",
      "enter the operation:/\n",
      "the division of num1 & num2 0.625\n"
     ]
    }
   ],
   "source": [
    "##date:01/09/2022\n",
    "\n",
    "num1=float(input(\"enter first number:\"))\n",
    "num2=float(input(\"enter second number:\"))\n",
    "operation=input(\"enter the operation:\")\n",
    "if(operation==\"+\"):\n",
    "    result=num1 + num2 \n",
    "    print(\"the sum of num1 & num2\", result)\n",
    "elif(operation==\"*\"):\n",
    "    result=num1 * num2\n",
    "    print(\"the multiplication of num1 & num2\", result)\n",
    "elif(operation==\"/\"):\n",
    "    result=num1/num2\n",
    "    print(\"the division of num1 & num2\", result)\n",
    "elif(operation==\"-\"):\n",
    "    result=num1 - num2\n",
    "    print(\"the substraction of num1 & num2\", result)"
   ]
  },
  {
   "cell_type": "code",
   "execution_count": 24,
   "id": "77f933ab",
   "metadata": {},
   "outputs": [
    {
     "name": "stdout",
     "output_type": "stream",
     "text": [
      "enter a number5486448484\n",
      "number is even\n"
     ]
    }
   ],
   "source": [
    "num=int(input(\"enter a number\"))\n",
    "if(num%2==0):\n",
    "    print(\"number is even\")\n",
    "else:\n",
    "    print(\"number is odd\")"
   ]
  },
  {
   "cell_type": "code",
   "execution_count": 4,
   "id": "24a2ae0d",
   "metadata": {},
   "outputs": [
    {
     "name": "stdout",
     "output_type": "stream",
     "text": [
      "enter any character:*\n",
      "enter any number:8\n",
      "        * \n",
      "       * * \n",
      "      * * * \n",
      "     * * * * \n",
      "    * * * * * \n",
      "   * * * * * * \n",
      "  * * * * * * * \n",
      " * * * * * * * * \n"
     ]
    }
   ],
   "source": [
    "a=input(\"enter any character:\")\n",
    "b=int(input(\"enter any number:\"))\n",
    "c=b-1\n",
    "for i in range(b):\n",
    "    print((c)*(\" \"), end = ' ')\n",
    "    print((i+1)*(a+\" \"))\n",
    "    c-=1"
   ]
  },
  {
   "cell_type": "code",
   "execution_count": 3,
   "id": "45141d35",
   "metadata": {},
   "outputs": [
    {
     "name": "stdout",
     "output_type": "stream",
     "text": [
      "enter any character:*\n",
      "enter any number:9\n",
      " * * * * * * * * * \n",
      "  * * * * * * * * \n",
      "   * * * * * * * \n",
      "    * * * * * * \n",
      "     * * * * * \n",
      "      * * * * \n",
      "       * * * \n",
      "        * * \n",
      "         * \n"
     ]
    }
   ],
   "source": [
    "a=input(\"enter any character:\")\n",
    "b=int(input(\"enter any number:\"))\n",
    "c=0\n",
    "for i in range(b):\n",
    "    print((c)*(\" \"), end = ' ')\n",
    "    print((b)*(a+\" \"))\n",
    "    b=b-1\n",
    "    c=c+1"
   ]
  },
  {
   "cell_type": "code",
   "execution_count": 9,
   "id": "e0e62efe",
   "metadata": {},
   "outputs": [
    {
     "name": "stdout",
     "output_type": "stream",
     "text": [
      "enter any character:*\n",
      "enter any number:8\n",
      "        * \n",
      "       * * \n",
      "      * * * \n",
      "     * * * * \n",
      "    * * * * * \n",
      "   * * * * * * \n",
      "  * * * * * * * \n",
      " * * * * * * * * \n",
      "  * * * * * * *\n",
      "   * * * * * *\n",
      "    * * * * *\n",
      "     * * * *\n",
      "      * * *\n",
      "       * *\n",
      "        *\n"
     ]
    }
   ],
   "source": [
    "a=input(\"enter any character:\")\n",
    "b=int(input(\"enter any number:\"))\n",
    "c=b-1\n",
    "for i in range(b):\n",
    "     print((c)*(\" \"), end = ' ')\n",
    "     print((i+1)*(a+\" \"))\n",
    "     c-=1\n",
    "     if(i==b-1):\n",
    "        b=b-1\n",
    "        c=0\n",
    "        for i in range(b):\n",
    "            print((c)*(\" \"), end = ' ')\n",
    "            print((b)*(\" \"+a))\n",
    "            b=b-1\n",
    "            c=c+1"
   ]
  },
  {
   "cell_type": "code",
   "execution_count": 11,
   "id": "a0de4ec8",
   "metadata": {},
   "outputs": [
    {
     "name": "stdout",
     "output_type": "stream",
     "text": [
      "enter any character:*\n",
      "enter any number:9\n",
      "         * \n",
      "        * * \n",
      "       * * * \n",
      "      * * * * \n",
      "     * * * * * \n",
      "    * * * * * * \n",
      "   * * * * * * * \n",
      "  * * * * * * * * \n",
      " * * * * * * * * * \n"
     ]
    }
   ],
   "source": [
    "def triangle(a,b):\n",
    "    c=b-1\n",
    "    for i in range(b):\n",
    "        print((c)*(\" \"), end = ' ')\n",
    "        print((i+1)*(a+\" \"))\n",
    "        c-=1\n",
    "a=input(\"enter any character:\")\n",
    "b=int(input(\"enter any number:\"))\n",
    "triangle(a,b)        "
   ]
  },
  {
   "cell_type": "code",
   "execution_count": null,
   "id": "0279516d",
   "metadata": {},
   "outputs": [],
   "source": []
  }
 ],
 "metadata": {
  "kernelspec": {
   "display_name": "Python 3 (ipykernel)",
   "language": "python",
   "name": "python3"
  },
  "language_info": {
   "codemirror_mode": {
    "name": "ipython",
    "version": 3
   },
   "file_extension": ".py",
   "mimetype": "text/x-python",
   "name": "python",
   "nbconvert_exporter": "python",
   "pygments_lexer": "ipython3",
   "version": "3.10.6"
  }
 },
 "nbformat": 4,
 "nbformat_minor": 5
}
